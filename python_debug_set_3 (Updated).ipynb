{
  "cells": [
    {
      "cell_type": "code",
      "execution_count": null,
      "id": "e0cda6bb",
      "metadata": {
        "id": "e0cda6bb",
        "colab": {
          "base_uri": "https://localhost:8080/"
        },
        "outputId": "6953f4b6-60aa-4283-a50d-6ec2fc8bd103"
      },
      "outputs": [
        {
          "output_type": "stream",
          "name": "stdout",
          "text": [
            "Hello, pazhani\n"
          ]
        }
      ],
      "source": [
        "#1.What is wrong with the following function definition, and how do you fix it?\n",
        "\n",
        "\n",
        "def say_hello(name)\n",
        "    print(\"Hello, \" + name)\n",
        "\n",
        "#Colon is missing after function defined.\n",
        "#We shoud call the function"
      ]
    },
    {
      "cell_type": "code",
      "execution_count": null,
      "id": "8e33c083",
      "metadata": {
        "id": "8e33c083"
      },
      "outputs": [],
      "source": [
        "#2.What error will occur in the following code, and how do you fix it?\n",
        "\n",
        "\n",
        "age = 25\n",
        "print(\"I am \" + age + \" years old\")\n",
        "\n",
        "# Here we can't concotenate the \"int\", We can only contenate the string"
      ]
    },
    {
      "cell_type": "code",
      "execution_count": null,
      "id": "52da6958",
      "metadata": {
        "id": "52da6958",
        "colab": {
          "base_uri": "https://localhost:8080/",
          "height": 36
        },
        "outputId": "dd558e69-046c-42e9-a860-95ff1f151eaa"
      },
      "outputs": [
        {
          "output_type": "execute_result",
          "data": {
            "text/plain": [
              "'Hello'"
            ],
            "application/vnd.google.colaboratory.intrinsic+json": {
              "type": "string"
            }
          },
          "metadata": {},
          "execution_count": 9
        }
      ],
      "source": [
        "#3.Question:\n",
        "#What is the issue with the following code?\n",
        "\n",
        "def greet():\n",
        "  message = \"Hello\"\n",
        "print(message)\n",
        "\n",
        "#return function is missing.\n",
        "#doesn't exist outside the function greet()\n",
        "\n",
        "def greet():\n",
        "    message = \"Hello\"\n",
        "    return message\n",
        "\n",
        "greet()\n"
      ]
    },
    {
      "cell_type": "code",
      "execution_count": null,
      "id": "98d811ab",
      "metadata": {
        "id": "98d811ab",
        "colab": {
          "base_uri": "https://localhost:8080/"
        },
        "outputId": "6412c771-0d47-490b-c781-f734717fe5bd"
      },
      "outputs": [
        {
          "output_type": "execute_result",
          "data": {
            "text/plain": [
              "15"
            ]
          },
          "metadata": {},
          "execution_count": 11
        }
      ],
      "source": [
        "#4.What error will occur in the following code, and how do you fix it?\n",
        "\n",
        "def add(a, b):\n",
        "  return a + b\n",
        "\n",
        "add(10, 5)\n",
        "\n",
        "#Missing one argument here add(10,5)\n"
      ]
    },
    {
      "cell_type": "code",
      "execution_count": null,
      "id": "87cdb40a",
      "metadata": {
        "id": "87cdb40a",
        "colab": {
          "base_uri": "https://localhost:8080/"
        },
        "outputId": "53fd7c2b-b099-4b1e-ca14-ecfde65fba6c"
      },
      "outputs": [
        {
          "output_type": "execute_result",
          "data": {
            "text/plain": [
              "True"
            ]
          },
          "metadata": {},
          "execution_count": 14
        }
      ],
      "source": [
        "#5.What is wrong with this code?\n",
        "\n",
        "def is_even(n):\n",
        "    if n % 2 == 1:\n",
        "        return True\n",
        "    else:\n",
        "        return False\n",
        "\n",
        "# We haven't call a function and arguments\n"
      ]
    },
    {
      "cell_type": "code",
      "execution_count": null,
      "id": "9849beed",
      "metadata": {
        "id": "9849beed",
        "colab": {
          "base_uri": "https://localhost:8080/"
        },
        "outputId": "f222ffd4-05cb-44ac-a830-80ed533839db"
      },
      "outputs": [
        {
          "output_type": "stream",
          "name": "stdout",
          "text": [
            "10\n"
          ]
        }
      ],
      "source": [
        "#6.What happens when you run this code?\n",
        "\n",
        "num = int(\"10a\")\n",
        "print(num)\n",
        "\n",
        "#here we should not put the string inside the \"integer\" datatypes"
      ]
    },
    {
      "cell_type": "code",
      "execution_count": null,
      "id": "e2de2ed1",
      "metadata": {
        "id": "e2de2ed1",
        "colab": {
          "base_uri": "https://localhost:8080/"
        },
        "outputId": "536f779e-88e3-47a9-d96f-d7783e2b8e98"
      },
      "outputs": [
        {
          "output_type": "stream",
          "name": "stdout",
          "text": [
            "[4, 3, 2, 1]\n"
          ]
        }
      ],
      "source": [
        "#7.What will happen when you run the following code?\n",
        "\n",
        "\n",
        "numbers = [1, 2, 3, 4]\n",
        "numbers.sort().reverse()\n",
        "print(numbers)\n",
        "\n",
        "#if We run NoneTpe = No attribute error will happen\n",
        "# SO, We have to seperate it like,\n",
        "numbers.sort()\n",
        "numbers.reverse()"
      ]
    },
    {
      "cell_type": "code",
      "execution_count": null,
      "id": "76c3f328",
      "metadata": {
        "id": "76c3f328",
        "colab": {
          "base_uri": "https://localhost:8080/"
        },
        "outputId": "809ad17c-2b85-4e67-92da-8039bffab520"
      },
      "outputs": [
        {
          "output_type": "stream",
          "name": "stdout",
          "text": [
            "None\n"
          ]
        }
      ],
      "source": [
        "#8.What is the issue with this code?\n",
        "\n",
        "\n",
        "numbers = [1, 2, 3]\n",
        "numbers = numbers.append(4)\n",
        "print(numbers)\n",
        "\n",
        "# Here we assigned the appended value(None) to the next  in numbers variable.\n",
        "#so it'll return None as an output.\n",
        "\n",
        "numbers = [1, 2, 3]\n",
        "numbers.append(4)\n",
        "print(numbers)\n"
      ]
    },
    {
      "cell_type": "code",
      "execution_count": 3,
      "id": "4e03b70d",
      "metadata": {
        "id": "4e03b70d",
        "colab": {
          "base_uri": "https://localhost:8080/"
        },
        "outputId": "d6380467-a368-44d3-d3f0-caa28d95017f"
      },
      "outputs": [
        {
          "output_type": "stream",
          "name": "stdout",
          "text": [
            "11\n"
          ]
        }
      ],
      "source": [
        "#9.What will happen when you run the following code?\n",
        "'''\n",
        "count = 10\n",
        "\n",
        "def increment():\n",
        "    count += 1\n",
        "    print(count)\n",
        "\n",
        "increment()\n",
        "\n",
        "#Here we should pass the argument(count) inside the function.\n",
        "#And we should give the value to that parameter\n",
        "\n",
        "count = 10\n",
        "\n",
        "def increment(global(count):\n",
        "    count += 1\n",
        "    print(count)\n",
        "\n",
        "increment(2)\n",
        "'''\n",
        "#added the global variable inside the function and not as parameter\n",
        "count = 10\n",
        "\n",
        "def increment():\n",
        "    global count\n",
        "    count += 1 #It'll be a local variable, If we didn't use the global variable\n",
        "    print(count)\n",
        "\n",
        "increment()\n"
      ]
    },
    {
      "cell_type": "code",
      "execution_count": null,
      "id": "2034a700",
      "metadata": {
        "id": "2034a700",
        "colab": {
          "base_uri": "https://localhost:8080/"
        },
        "outputId": "aacb9031-0b9a-41ba-99a1-f8a815f34442"
      },
      "outputs": [
        {
          "output_type": "stream",
          "name": "stdout",
          "text": [
            "n\n"
          ]
        }
      ],
      "source": [
        "#10.What error will occur in the following code?\n",
        "\n",
        "text = \"Python\"\n",
        "print(text[10])\n",
        "\n",
        "\n",
        "# Index out of range will happen\n",
        "# Because \"python\" string has only 6 indexes"
      ]
    },
    {
      "cell_type": "code",
      "execution_count": null,
      "id": "1bf753bf",
      "metadata": {
        "id": "1bf753bf"
      },
      "outputs": [],
      "source": []
    },
    {
      "cell_type": "code",
      "execution_count": null,
      "id": "332e6058",
      "metadata": {
        "id": "332e6058"
      },
      "outputs": [],
      "source": []
    },
    {
      "cell_type": "code",
      "execution_count": null,
      "id": "e9f9ec4a",
      "metadata": {
        "id": "e9f9ec4a"
      },
      "outputs": [],
      "source": []
    },
    {
      "cell_type": "code",
      "execution_count": null,
      "id": "a4ac24f3",
      "metadata": {
        "id": "a4ac24f3"
      },
      "outputs": [],
      "source": []
    },
    {
      "cell_type": "code",
      "execution_count": null,
      "id": "a131a6e8",
      "metadata": {
        "id": "a131a6e8"
      },
      "outputs": [],
      "source": []
    },
    {
      "cell_type": "code",
      "execution_count": null,
      "id": "9c76c104",
      "metadata": {
        "id": "9c76c104"
      },
      "outputs": [],
      "source": []
    },
    {
      "cell_type": "code",
      "execution_count": null,
      "id": "00877add",
      "metadata": {
        "id": "00877add"
      },
      "outputs": [],
      "source": []
    },
    {
      "cell_type": "code",
      "execution_count": null,
      "id": "5c9757c9",
      "metadata": {
        "id": "5c9757c9"
      },
      "outputs": [],
      "source": []
    },
    {
      "cell_type": "code",
      "execution_count": null,
      "id": "77922c34",
      "metadata": {
        "id": "77922c34"
      },
      "outputs": [],
      "source": []
    },
    {
      "cell_type": "code",
      "execution_count": null,
      "id": "85723416",
      "metadata": {
        "id": "85723416"
      },
      "outputs": [],
      "source": []
    },
    {
      "cell_type": "code",
      "execution_count": null,
      "id": "43418092",
      "metadata": {
        "id": "43418092"
      },
      "outputs": [],
      "source": []
    }
  ],
  "metadata": {
    "kernelspec": {
      "display_name": "Python 3 (ipykernel)",
      "language": "python",
      "name": "python3"
    },
    "language_info": {
      "codemirror_mode": {
        "name": "ipython",
        "version": 3
      },
      "file_extension": ".py",
      "mimetype": "text/x-python",
      "name": "python",
      "nbconvert_exporter": "python",
      "pygments_lexer": "ipython3",
      "version": "3.7.6"
    },
    "colab": {
      "provenance": []
    }
  },
  "nbformat": 4,
  "nbformat_minor": 5
}
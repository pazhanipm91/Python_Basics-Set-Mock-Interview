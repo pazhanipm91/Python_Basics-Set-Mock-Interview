{
  "nbformat": 4,
  "nbformat_minor": 0,
  "metadata": {
    "colab": {
      "provenance": []
    },
    "kernelspec": {
      "name": "python3",
      "display_name": "Python 3"
    },
    "language_info": {
      "name": "python"
    }
  },
  "cells": [
    {
      "cell_type": "code",
      "execution_count": 7,
      "metadata": {
        "colab": {
          "base_uri": "https://localhost:8080/"
        },
        "id": "8sGc6SkwYqRv",
        "outputId": "fee5b224-ccd3-4b46-e2ae-f2d7c22e3747"
      },
      "outputs": [
        {
          "output_type": "stream",
          "name": "stdout",
          "text": [
            "Enter a valid integer: -a2\n",
            "Invalid input! Please enter numbers only.\n",
            "Enter a valid integer: 4.5\n",
            "Invalid input! Please enter numbers only.\n",
            "Enter a valid integer: -4\n",
            "Invalid input! Please enter numbers only.\n",
            "Enter a valid integer: 1236\n",
            "You entered this number: 1236\n"
          ]
        }
      ],
      "source": [
        "'''Scenaio 1: The user is required to enter a valid number in a form, but users sometimes input invalid data.\n",
        " Write logic to repeatedly prompt the user until they enter a valid integer.\n",
        "'''\n",
        "while True:\n",
        "    user_input = input(\"Enter a valid integer: \")\n",
        "    if user_input.isdigit(): #isdigit() by using this method, which checks if a string contains only digits:\n",
        "        number = int(user_input)\n",
        "        print(\"You entered this number:\", number)\n",
        "        break\n",
        "    else:\n",
        "        print(\"Invalid input! Please enter numbers only.\")\n"
      ]
    },
    {
      "cell_type": "code",
      "source": [
        "'''Scenario 2:  A data analysis tool processes a list of numbers and needs to identify the most frequently occurring value.\n",
        " Write logic to find the most frequently occurring number in a given list.\n",
        "'''\n",
        "numbers = [1, 2, 2, 2, 3, 4, 4, 4, 5, 2]\n",
        "mostCommon = max(set(numbers), key=numbers.count)\n",
        "print(\"Most frequent number:\", mostCommon)\n",
        "print(\"Frequency:\", numbers.count(mostCommon))\n"
      ],
      "metadata": {
        "colab": {
          "base_uri": "https://localhost:8080/"
        },
        "id": "zhhaPQJDd-bI",
        "outputId": "f9cb9019-b393-4b6c-b4a4-1c345c864de9"
      },
      "execution_count": 8,
      "outputs": [
        {
          "output_type": "stream",
          "name": "stdout",
          "text": [
            "Most frequent number: 2\n",
            "Frequency: 4\n"
          ]
        }
      ]
    },
    {
      "cell_type": "code",
      "source": [
        "'''\n",
        "Scenario 3: A text-processing application needs to compare words and check if they are anagrams (contain the same letters in a different order).\n",
        " Write logic to determine whether two given strings are anagrams.\n",
        "'''\n",
        "str1 = \"listen\"\n",
        "str2 = \"silent\"\n",
        "\n",
        "if sorted(str1) == sorted(str2):\n",
        "    print(\"Anagram\")\n",
        "else:\n",
        "    print(\"Not an anagram\")"
      ],
      "metadata": {
        "colab": {
          "base_uri": "https://localhost:8080/"
        },
        "id": "z1gM4NsIfPMR",
        "outputId": "a5792c9c-4635-4fd3-f617-a06e322ee0d9"
      },
      "execution_count": 11,
      "outputs": [
        {
          "output_type": "stream",
          "name": "stdout",
          "text": [
            "Anagram\n"
          ]
        }
      ]
    },
    {
      "cell_type": "code",
      "source": [
        "'''\n",
        "4.\tScenario: A speech analysis program needs to count the number of vowel sounds in a given input.\n",
        " Write logic to count the number of vowels in a given string.\n",
        "'''\n",
        "text = input(\"Enter a string: \")\n",
        "vowels = \"aeiouAEIOU\"\n",
        "count = 0\n",
        "for char in text:\n",
        "    if char in vowels:\n",
        "        count += 1\n",
        "print(\"Number of vowels:\", count)\n"
      ],
      "metadata": {
        "colab": {
          "base_uri": "https://localhost:8080/"
        },
        "id": "_cTKp3ghiRut",
        "outputId": "1ecce875-99a2-4714-fd25-de3420b202e0"
      },
      "execution_count": 15,
      "outputs": [
        {
          "output_type": "stream",
          "name": "stdout",
          "text": [
            "Enter a string: orange\n",
            "Number of vowels: 3\n"
          ]
        }
      ]
    },
    {
      "cell_type": "code",
      "source": [
        "'''\n",
        "5.\tScenario: A text-editing software includes a feature to reverse the order of words in a sentence for stylistic effects.\n",
        " Write logic to reverse the order of words in a sentence while keeping the words themselves intact.\n",
        "'''\n",
        "sentence = input(\"Enter a sentence: \")\n",
        "words = sentence.split()\n",
        "reversed_sentence = \" \".join(reversed(words))\n",
        "print(reversed_sentence)\n"
      ],
      "metadata": {
        "colab": {
          "base_uri": "https://localhost:8080/"
        },
        "id": "_Z4qsO9vj1yp",
        "outputId": "d967aae7-ae7a-43ff-bd07-12f619d5376f"
      },
      "execution_count": 16,
      "outputs": [
        {
          "output_type": "stream",
          "name": "stdout",
          "text": [
            "Enter a sentence: i love python programming\n",
            "programming python love i\n"
          ]
        }
      ]
    },
    {
      "cell_type": "code",
      "source": [
        "'''\n",
        "6.\tScenario: A missing number is detected in a sequence of values stored in a database.\n",
        " Write logic to find the missing number in a list containing n-1 numbers from 1 to n.\n",
        "'''\n",
        "numbers = [1, 2, 4, 5]\n",
        "n = 5\n",
        "for i in range(1, n+1):\n",
        "    if i not in numbers:\n",
        "        print(\"Missing number:\", i)\n",
        "        break"
      ],
      "metadata": {
        "colab": {
          "base_uri": "https://localhost:8080/"
        },
        "id": "Ffo8wnZylLSy",
        "outputId": "0a5d7065-64da-44a6-9004-610710e3f7f0"
      },
      "execution_count": 17,
      "outputs": [
        {
          "output_type": "stream",
          "name": "stdout",
          "text": [
            "Missing number: 3\n"
          ]
        }
      ]
    },
    {
      "cell_type": "code",
      "source": [
        "'''\n",
        "7.\tScenario: An ATM machine processes withdrawal requests and needs to ensure that users cannot withdraw more than their account balance.\n",
        " Write logic to allow a withdrawal only if the balance is sufficient.\n",
        "'''\n",
        "balance=5000\n",
        "withdrawAmt=int(input(\"Enter withdrawal amount: \"))\n",
        "if withdrawAmt <= balance:\n",
        "    balance -= withdrawAmt\n",
        "    print(f\"Withdrawal successful. Remaining balance:\", balance)\n",
        "else:\n",
        "    print(\"Insufficient funds! Withdrawal denied.\")\n"
      ],
      "metadata": {
        "colab": {
          "base_uri": "https://localhost:8080/"
        },
        "id": "MDgj96smmcfP",
        "outputId": "401bfcb4-aee3-4f65-dd29-ac17cccd8975"
      },
      "execution_count": 20,
      "outputs": [
        {
          "output_type": "stream",
          "name": "stdout",
          "text": [
            "Enter withdrawal amount: 5000\n",
            "Withdrawal successful. Remaining balance: 0\n"
          ]
        }
      ]
    },
    {
      "cell_type": "code",
      "source": [
        "'''\n",
        "8.\tScenario: A system needs to verify whether a given dataset contains duplicate entries.\n",
        " Write logic to check whether a given list contains duplicate values.\n",
        "'''\n",
        "numbers=[1, 2, 2, 3, 4, 4, 5]\n",
        "unique_numbers = list(set(numbers))\n",
        "print(unique_numbers)\n"
      ],
      "metadata": {
        "colab": {
          "base_uri": "https://localhost:8080/"
        },
        "id": "_c5d2m9xnV5j",
        "outputId": "82b824d2-f367-4ca9-a238-96035a2661ce"
      },
      "execution_count": 21,
      "outputs": [
        {
          "output_type": "stream",
          "name": "stdout",
          "text": [
            "[1, 2, 3, 4, 5]\n"
          ]
        }
      ]
    },
    {
      "cell_type": "code",
      "source": [
        "'''\n",
        "9.\tScenario: A digital calculator includes a feature to sum the digits of a number for verification purposes.\n",
        " Write logic to calculate the sum of all digits in a given integer.\n",
        "'''\n",
        "number=int(input(\"Enter a number: \"))\n",
        "total=0\n",
        "while number > 0:\n",
        "    digit=number % 10\n",
        "    total+=digit\n",
        "    number //= 10\n",
        "print(\"Sum of digits:\", total)\n"
      ],
      "metadata": {
        "colab": {
          "base_uri": "https://localhost:8080/"
        },
        "id": "yokeytMDn-gC",
        "outputId": "cbc0a1cc-2ce1-461a-f8fd-9d9bf23616ef"
      },
      "execution_count": 22,
      "outputs": [
        {
          "output_type": "stream",
          "name": "stdout",
          "text": [
            "Enter a number: 45687\n",
            "Sum of digits: 30\n"
          ]
        }
      ]
    },
    {
      "cell_type": "code",
      "source": [
        "'''\n",
        "Scenario 10: app wants to verify whether a given sentence is a pangram (contains every letter of the alphabet at least once).\n",
        " Write logic to check if a given sentence is a pangram.\n",
        "'''\n",
        "\n",
        "sentence = input(\"Enter a sentence: \").lower()\n",
        "pangram = all(ch in sentence for ch in \"abcdefghijklmnopqrstuvwxyz\")\n",
        "if pangram:\n",
        "    print(\"Pangram\")\n",
        "else:\n",
        "    print(\"Not Pangram\")\n"
      ],
      "metadata": {
        "colab": {
          "base_uri": "https://localhost:8080/"
        },
        "id": "W5wUfxyLp0tm",
        "outputId": "cd66641b-65ed-428b-8d81-3ddcd4e059ab"
      },
      "execution_count": 26,
      "outputs": [
        {
          "output_type": "stream",
          "name": "stdout",
          "text": [
            "Enter a sentence: The quick brown fox jumps over the lazy dog\n",
            "Pangram\n"
          ]
        }
      ]
    },
    {
      "cell_type": "code",
      "source": [],
      "metadata": {
        "id": "cY_B9hy6sYhZ"
      },
      "execution_count": null,
      "outputs": []
    }
  ]
}
{
  "cells": [
    {
      "cell_type": "code",
      "execution_count": 8,
      "id": "511e5dbe",
      "metadata": {
        "id": "511e5dbe",
        "colab": {
          "base_uri": "https://localhost:8080/"
        },
        "outputId": "92ef3268-e6af-4a3f-af2f-331e44275333"
      },
      "outputs": [
        {
          "output_type": "stream",
          "name": "stdout",
          "text": [
            "55\n"
          ]
        }
      ],
      "source": [
        "#1. Square of Numbers from 1 to 5\n",
        "#Output:\n",
        "#1 4 9 16 25\n",
        "numbers=[1, 4, 9, 16, 25]\n",
        "sum_of_squares=sum(numbers)\n",
        "print(sum_of_squares)"
      ]
    },
    {
      "cell_type": "code",
      "execution_count": 10,
      "id": "e886abee",
      "metadata": {
        "id": "e886abee",
        "colab": {
          "base_uri": "https://localhost:8080/"
        },
        "outputId": "2894234a-4756-4b7b-e59a-f398a334dea1"
      },
      "outputs": [
        {
          "output_type": "stream",
          "name": "stdout",
          "text": [
            "a= 10 b= 5\n"
          ]
        }
      ],
      "source": [
        "#2.Swap Two Variables Without Using a Temporary Variable\n",
        "#Question: Write a Python program to swap two variables a = 5 and b = 10 without using a temporary variable.\n",
        "a = 5\n",
        "b = 10\n",
        "a=a+b\n",
        "b=a-b\n",
        "a=a-b\n",
        "print(\"a=\",a, \"b=\", b)"
      ]
    },
    {
      "cell_type": "code",
      "execution_count": 15,
      "id": "adfc0479",
      "metadata": {
        "id": "adfc0479",
        "colab": {
          "base_uri": "https://localhost:8080/"
        },
        "outputId": "9b4a3b4b-78f3-4d46-ec34-6c8002a218f2"
      },
      "outputs": [
        {
          "output_type": "stream",
          "name": "stdout",
          "text": [
            "12 is even\n",
            "17 is odd\n",
            "19 is odd\n",
            "24 is even\n",
            "35 is odd\n",
            "40 is even\n",
            "56 is even\n"
          ]
        }
      ],
      "source": [
        " #3.Find Even and Odd Numbers in a List\n",
        "#Question: Write a Python program to separate even and odd numbers from the list [12, 17, 19, 24, 35, 40, 56].\n",
        "n=[12, 17, 19, 24, 35, 40, 56]\n",
        "for i in n:\n",
        "  if(i%2==0):\n",
        "    print(i, \"is even\")\n",
        "  if(i%2!=0):\n",
        "    print(i, \"is odd\")"
      ]
    },
    {
      "cell_type": "code",
      "execution_count": 22,
      "id": "9bd0afd7",
      "metadata": {
        "id": "9bd0afd7",
        "colab": {
          "base_uri": "https://localhost:8080/"
        },
        "outputId": "c2d9925a-e9dd-425b-c5ad-baaeb821da87"
      },
      "outputs": [
        {
          "output_type": "stream",
          "name": "stdout",
          "text": [
            "54321\n"
          ]
        }
      ],
      "source": [
        "#4. Reverse a Number\n",
        "#Question: Write a Python program to reverse the number 12345.\n",
        "n=12345\n",
        "reversed = 0\n",
        "while n != 0:\n",
        "  remainder = n%10\n",
        "  reversed = reversed * 10 + remainder\n",
        "  n=n//10\n",
        "print(reversed)"
      ]
    },
    {
      "cell_type": "code",
      "execution_count": 26,
      "id": "baf1f666",
      "metadata": {
        "id": "baf1f666",
        "colab": {
          "base_uri": "https://localhost:8080/"
        },
        "outputId": "b175acd3-bfaf-434b-dc88-3afebcc7bc69"
      },
      "outputs": [
        {
          "output_type": "stream",
          "name": "stdout",
          "text": [
            "Second largest: 45\n"
          ]
        }
      ],
      "source": [
        "#5. Find the Second Largest Number in a List\n",
        "#Question: Write a Python program to find the second largest number in the list [12, 45, 98, 34, 23].\n",
        "numbers = [12, 45, 98, 34, 23]\n",
        "second_largest=sorted(numbers)[-2]\n",
        "print(\"Second largest:\", second_largest)"
      ]
    }
  ],
  "metadata": {
    "kernelspec": {
      "display_name": "Python 3 (ipykernel)",
      "language": "python",
      "name": "python3"
    },
    "language_info": {
      "codemirror_mode": {
        "name": "ipython",
        "version": 3
      },
      "file_extension": ".py",
      "mimetype": "text/x-python",
      "name": "python",
      "nbconvert_exporter": "python",
      "pygments_lexer": "ipython3",
      "version": "3.7.6"
    },
    "colab": {
      "provenance": []
    }
  },
  "nbformat": 4,
  "nbformat_minor": 5
}